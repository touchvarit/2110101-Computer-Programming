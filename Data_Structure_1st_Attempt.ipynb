{
  "nbformat": 4,
  "nbformat_minor": 0,
  "metadata": {
    "colab": {
      "provenance": [],
      "authorship_tag": "ABX9TyPk+Q0cAWP1AIUkvziia7Zk",
      "include_colab_link": true
    },
    "kernelspec": {
      "name": "python3",
      "display_name": "Python 3"
    },
    "language_info": {
      "name": "python"
    }
  },
  "cells": [
    {
      "cell_type": "markdown",
      "metadata": {
        "id": "view-in-github",
        "colab_type": "text"
      },
      "source": [
        "<a href=\"https://colab.research.google.com/github/touchvarit/Python-500-Problems-by-Tautology/blob/main/Data_Structure_1st_Attempt.ipynb\" target=\"_parent\"><img src=\"https://colab.research.google.com/assets/colab-badge.svg\" alt=\"Open In Colab\"/></a>"
      ]
    },
    {
      "cell_type": "markdown",
      "source": [
        "# Numeric"
      ],
      "metadata": {
        "id": "MDTN_dWb_GUD"
      }
    },
    {
      "cell_type": "code",
      "execution_count": null,
      "metadata": {
        "colab": {
          "base_uri": "https://localhost:8080/"
        },
        "id": "hXYt0Pw5UcPk",
        "outputId": "431dd1ee-7c8c-461f-9f00-824ea2443efe"
      },
      "outputs": [
        {
          "output_type": "stream",
          "name": "stdout",
          "text": [
            "<class 'int'>\n",
            "5\n"
          ]
        }
      ],
      "source": [
        "numeric1 = 5\n",
        "print(type(numeric1))\n",
        "print(numeric1)"
      ]
    },
    {
      "cell_type": "code",
      "source": [
        "numeric2 = -3\n",
        "print(type(numeric2))\n",
        "print(numeric2)"
      ],
      "metadata": {
        "colab": {
          "base_uri": "https://localhost:8080/"
        },
        "id": "uGime3F8ovmM",
        "outputId": "df28a920-792a-461f-936a-f772af65c53a"
      },
      "execution_count": null,
      "outputs": [
        {
          "output_type": "stream",
          "name": "stdout",
          "text": [
            "<class 'int'>\n",
            "-3\n"
          ]
        }
      ]
    },
    {
      "cell_type": "code",
      "source": [
        "numeric3 = 0\n",
        "print(type(numeric3))\n",
        "print(numeric3)"
      ],
      "metadata": {
        "colab": {
          "base_uri": "https://localhost:8080/"
        },
        "id": "Vl__-PUdo-nr",
        "outputId": "520f5c75-5793-41d8-d509-cf057eddd334"
      },
      "execution_count": null,
      "outputs": [
        {
          "output_type": "stream",
          "name": "stdout",
          "text": [
            "<class 'int'>\n",
            "0\n"
          ]
        }
      ]
    },
    {
      "cell_type": "code",
      "source": [
        "x = int(input('please input integer'))\n",
        "print(x)\n",
        "print(type(x))"
      ],
      "metadata": {
        "colab": {
          "base_uri": "https://localhost:8080/"
        },
        "id": "7oiO108MpDOj",
        "outputId": "571a22e2-6878-46d4-8c01-4ce90e4b5c58"
      },
      "execution_count": null,
      "outputs": [
        {
          "output_type": "stream",
          "name": "stdout",
          "text": [
            "please input integer2\n",
            "2\n",
            "<class 'int'>\n"
          ]
        }
      ]
    },
    {
      "cell_type": "code",
      "source": [
        "numeric1 = 5.0\n",
        "print(numeric1)\n",
        "print(type(numeric1))"
      ],
      "metadata": {
        "colab": {
          "base_uri": "https://localhost:8080/"
        },
        "id": "ZQaBG8V8pO0X",
        "outputId": "450c9be6-ecac-4ab4-8ffb-2aabc6e13fa4"
      },
      "execution_count": null,
      "outputs": [
        {
          "output_type": "stream",
          "name": "stdout",
          "text": [
            "5.0\n",
            "<class 'float'>\n"
          ]
        }
      ]
    },
    {
      "cell_type": "code",
      "source": [
        "numeric2 = -3.1\n",
        "print(numeric2)\n",
        "print(type(numeric2))"
      ],
      "metadata": {
        "colab": {
          "base_uri": "https://localhost:8080/"
        },
        "id": "VxzfFuLlpmBY",
        "outputId": "988500f3-a853-44ee-9c45-ffcb7aee52ac"
      },
      "execution_count": null,
      "outputs": [
        {
          "output_type": "stream",
          "name": "stdout",
          "text": [
            "-3.1\n",
            "<class 'float'>\n"
          ]
        }
      ]
    },
    {
      "cell_type": "code",
      "source": [
        "numeric3 = 0.0\n",
        "print(numeric3)\n",
        "print(type(numeric3))"
      ],
      "metadata": {
        "colab": {
          "base_uri": "https://localhost:8080/"
        },
        "id": "Mid3pD_7qIi5",
        "outputId": "10be7c13-7e68-4278-e6ba-cf8a57f496a9"
      },
      "execution_count": null,
      "outputs": [
        {
          "output_type": "stream",
          "name": "stdout",
          "text": [
            "0.0\n",
            "<class 'float'>\n"
          ]
        }
      ]
    },
    {
      "cell_type": "code",
      "source": [
        "x = float(input('please input real number'))\n",
        "print(x)\n",
        "print(type(x))"
      ],
      "metadata": {
        "colab": {
          "base_uri": "https://localhost:8080/"
        },
        "id": "YIhyfVuoqM_9",
        "outputId": "de941ed0-0456-4fe6-ede8-c7e2a13c47c7"
      },
      "execution_count": null,
      "outputs": [
        {
          "output_type": "stream",
          "name": "stdout",
          "text": [
            "please input real number5.3\n",
            "5.3\n",
            "<class 'float'>\n"
          ]
        }
      ]
    },
    {
      "cell_type": "code",
      "source": [
        "x = int(input('please input the first number (x) for the operation'))\n",
        "y = int(input('please input the second number (y) for the operation'))\n",
        "print('x + y =', x+y, 'the data type is', type(x+y))\n",
        "print('x - y =', x-y, 'the data type is', type(x-y))\n",
        "print('x * y =', x*y, 'the data type is', type(x*y))\n",
        "print('x / y =', x/y, 'the data type is', type(x/y))"
      ],
      "metadata": {
        "colab": {
          "base_uri": "https://localhost:8080/"
        },
        "id": "72ONbt4wq55l",
        "outputId": "75ddc367-8e8b-43f2-85e9-6c6a0b30d84d"
      },
      "execution_count": null,
      "outputs": [
        {
          "output_type": "stream",
          "name": "stdout",
          "text": [
            "please input the first number (x) for the operation123\n",
            "please input the second number (y) for the operation123\n",
            "x + y = 246 the data type is <class 'int'>\n",
            "x - y = 0 the data type is <class 'int'>\n",
            "x * y = 15129 the data type is <class 'int'>\n",
            "x / y = 1.0 the data type is <class 'float'>\n"
          ]
        }
      ]
    },
    {
      "cell_type": "code",
      "source": [
        "x = float(input('please input the first number (x) for the operation'))\n",
        "y = float(input('please input the second number (y) for the operation'))\n",
        "print('x + y =', x+y, 'the data type is', type(x+y))\n",
        "print('x - y =', x-y, 'the data type is', type(x-y))\n",
        "print('x * y =', x*y, 'the data type is', type(x*y))\n",
        "print('x / y =', x/y, 'the data type is', type(x/y))"
      ],
      "metadata": {
        "id": "qWQsSbWrriiI"
      },
      "execution_count": null,
      "outputs": []
    },
    {
      "cell_type": "code",
      "source": [
        "x = int(input('please input the first number (x) for the operation'))\n",
        "y = float(input('please input the second number (y) for the operation'))\n",
        "print('x + y =', x+y, 'the data type is', type(x+y))\n",
        "print('x - y =', x-y, 'the data type is', type(x-y))\n",
        "print('x * y =', x*y, 'the data type is', type(x*y))\n",
        "print('x / y =', x/y, 'the data type is', type(x/y))"
      ],
      "metadata": {
        "colab": {
          "base_uri": "https://localhost:8080/"
        },
        "id": "6RsO9RB-9Pq2",
        "outputId": "7d66bb2c-11b6-45df-f26e-45f28671de82"
      },
      "execution_count": null,
      "outputs": [
        {
          "output_type": "stream",
          "name": "stdout",
          "text": [
            "please input the first number (x) for the operation23\n",
            "please input the second number (y) for the operation15\n",
            "x + y = 38.0 the data type is <class 'float'>\n",
            "x - y = 8.0 the data type is <class 'float'>\n",
            "x * y = 345.0 the data type is <class 'float'>\n",
            "x / y = 1.5333333333333334 the data type is <class 'float'>\n"
          ]
        }
      ]
    },
    {
      "cell_type": "code",
      "source": [
        "logic1 = True\n",
        "print(logic1)"
      ],
      "metadata": {
        "colab": {
          "base_uri": "https://localhost:8080/"
        },
        "id": "v821WtPH9Q3J",
        "outputId": "218e421e-50bc-49a2-f890-71bb4dce7e70"
      },
      "execution_count": null,
      "outputs": [
        {
          "output_type": "stream",
          "name": "stdout",
          "text": [
            "True\n"
          ]
        }
      ]
    },
    {
      "cell_type": "code",
      "source": [
        "logic2 = False\n",
        "print(logic2)"
      ],
      "metadata": {
        "colab": {
          "base_uri": "https://localhost:8080/"
        },
        "id": "CbyDTsCl9X3K",
        "outputId": "3b1041e1-d952-482c-bbe5-ed45b272d4f0"
      },
      "execution_count": null,
      "outputs": [
        {
          "output_type": "stream",
          "name": "stdout",
          "text": [
            "False\n"
          ]
        }
      ]
    },
    {
      "cell_type": "code",
      "source": [
        "logic1 = True\n",
        "logic2 = False\n",
        "print(logic1 and logic2)"
      ],
      "metadata": {
        "colab": {
          "base_uri": "https://localhost:8080/"
        },
        "id": "5shWkRfp9bYA",
        "outputId": "f615316c-1909-4779-f246-e6475a5b0971"
      },
      "execution_count": null,
      "outputs": [
        {
          "output_type": "stream",
          "name": "stdout",
          "text": [
            "False\n"
          ]
        }
      ]
    },
    {
      "cell_type": "code",
      "source": [
        "logic1 = True\n",
        "logic2 = False\n",
        "print(logic1 or logic2)"
      ],
      "metadata": {
        "colab": {
          "base_uri": "https://localhost:8080/"
        },
        "id": "U7bXXOb29gtS",
        "outputId": "f524fd91-92f0-418d-ae28-e631452dddfc"
      },
      "execution_count": null,
      "outputs": [
        {
          "output_type": "stream",
          "name": "stdout",
          "text": [
            "True\n"
          ]
        }
      ]
    },
    {
      "cell_type": "code",
      "source": [
        "complex1 = 1+2j\n",
        "print(complex1, 'the data type is', type(complex1))"
      ],
      "metadata": {
        "colab": {
          "base_uri": "https://localhost:8080/"
        },
        "id": "-RtO9gmy9oW8",
        "outputId": "55d468ad-00c1-4248-9c00-96874a0c08d1"
      },
      "execution_count": null,
      "outputs": [
        {
          "output_type": "stream",
          "name": "stdout",
          "text": [
            "(1+2j) the data type is <class 'complex'>\n"
          ]
        }
      ]
    },
    {
      "cell_type": "code",
      "source": [
        "complex1 = 1+2j\n",
        "print('the value of the real part is equal to', complex1.real)"
      ],
      "metadata": {
        "colab": {
          "base_uri": "https://localhost:8080/"
        },
        "id": "kgbfxnod90I_",
        "outputId": "7ffeda2b-7f0f-4fd0-c548-a415dfdd136d"
      },
      "execution_count": null,
      "outputs": [
        {
          "output_type": "stream",
          "name": "stdout",
          "text": [
            "the value of the real part is equal to 1.0\n"
          ]
        }
      ]
    },
    {
      "cell_type": "code",
      "source": [
        "complex = 1+2j\n",
        "print('the value of the imaginary part is equal to', complex1.imag)"
      ],
      "metadata": {
        "colab": {
          "base_uri": "https://localhost:8080/"
        },
        "id": "o5pqcMNQ-0rh",
        "outputId": "03a547ef-599f-43cd-8837-6979009f6a68"
      },
      "execution_count": null,
      "outputs": [
        {
          "output_type": "stream",
          "name": "stdout",
          "text": [
            "the value of the imaginary part is equal to 2.0\n"
          ]
        }
      ]
    },
    {
      "cell_type": "markdown",
      "source": [
        "# String"
      ],
      "metadata": {
        "id": "Xd8b31bb_KZO"
      }
    },
    {
      "cell_type": "code",
      "source": [
        "string1 = 'Python'\n",
        "print('the value of string1 is', string1, 'and the data type of string1 is', type(string1))"
      ],
      "metadata": {
        "colab": {
          "base_uri": "https://localhost:8080/"
        },
        "id": "PqnI624h_MQ6",
        "outputId": "558826d8-8522-447d-bed4-29c207342830"
      },
      "execution_count": null,
      "outputs": [
        {
          "output_type": "stream",
          "name": "stdout",
          "text": [
            "the value of string1 is Python and the data type of string1 is <class 'str'>\n"
          ]
        }
      ]
    },
    {
      "cell_type": "code",
      "source": [
        "string1 = 'Python'\n",
        "print(string1[0])"
      ],
      "metadata": {
        "colab": {
          "base_uri": "https://localhost:8080/"
        },
        "id": "ShFwcO_G_X5g",
        "outputId": "88e60a83-c3fc-4c11-db1b-af2552bba67c"
      },
      "execution_count": null,
      "outputs": [
        {
          "output_type": "stream",
          "name": "stdout",
          "text": [
            "P\n"
          ]
        }
      ]
    },
    {
      "cell_type": "code",
      "source": [
        "string1 = 'Python'\n",
        "print(string1[1])"
      ],
      "metadata": {
        "colab": {
          "base_uri": "https://localhost:8080/"
        },
        "id": "C_4y1vtm_dx-",
        "outputId": "8665f82b-01f3-4b13-f559-09689de52032"
      },
      "execution_count": null,
      "outputs": [
        {
          "output_type": "stream",
          "name": "stdout",
          "text": [
            "y\n"
          ]
        }
      ]
    },
    {
      "cell_type": "code",
      "source": [
        "string1 = 'Python'\n",
        "print(string1[-1])"
      ],
      "metadata": {
        "colab": {
          "base_uri": "https://localhost:8080/"
        },
        "id": "O9VbE6C6_fT1",
        "outputId": "6f6f66c3-a654-4381-d39d-aaa05cd5aa0a"
      },
      "execution_count": null,
      "outputs": [
        {
          "output_type": "stream",
          "name": "stdout",
          "text": [
            "n\n"
          ]
        }
      ]
    },
    {
      "cell_type": "code",
      "source": [
        "string1 = 'Python'\n",
        "print(string1[-2])"
      ],
      "metadata": {
        "colab": {
          "base_uri": "https://localhost:8080/"
        },
        "id": "GFm5K98g_hr6",
        "outputId": "0436b103-fde9-4690-e9f8-50448879c7ae"
      },
      "execution_count": null,
      "outputs": [
        {
          "output_type": "stream",
          "name": "stdout",
          "text": [
            "o\n"
          ]
        }
      ]
    },
    {
      "cell_type": "code",
      "source": [
        "string1 = 'Python'\n",
        "print(string1[2])"
      ],
      "metadata": {
        "colab": {
          "base_uri": "https://localhost:8080/"
        },
        "id": "24fNHenCAZF8",
        "outputId": "f6babc93-4cdb-43d1-8a93-bd4063e34201"
      },
      "execution_count": null,
      "outputs": [
        {
          "output_type": "stream",
          "name": "stdout",
          "text": [
            "t\n"
          ]
        }
      ]
    },
    {
      "cell_type": "code",
      "source": [
        "string1 = 'Python'\n",
        "print(string1[3])"
      ],
      "metadata": {
        "colab": {
          "base_uri": "https://localhost:8080/"
        },
        "id": "NRvVawg1AcTw",
        "outputId": "cfd51885-fece-4d2e-e761-b49914983029"
      },
      "execution_count": null,
      "outputs": [
        {
          "output_type": "stream",
          "name": "stdout",
          "text": [
            "h\n"
          ]
        }
      ]
    },
    {
      "cell_type": "code",
      "source": [
        "string1 = 'Python'\n",
        "print(string1[1:4])"
      ],
      "metadata": {
        "colab": {
          "base_uri": "https://localhost:8080/"
        },
        "id": "Az4z_tNpAguC",
        "outputId": "adf46b48-ed86-4665-bce2-bdda2f52d549"
      },
      "execution_count": null,
      "outputs": [
        {
          "output_type": "stream",
          "name": "stdout",
          "text": [
            "yth\n"
          ]
        }
      ]
    },
    {
      "cell_type": "code",
      "source": [
        "string1 = 'Python'\n",
        "print(string1[2:-1])"
      ],
      "metadata": {
        "colab": {
          "base_uri": "https://localhost:8080/"
        },
        "id": "CoZYrehUAjJZ",
        "outputId": "0893325e-7e3c-4d0c-ae3c-e28f7601d249"
      },
      "execution_count": null,
      "outputs": [
        {
          "output_type": "stream",
          "name": "stdout",
          "text": [
            "tho\n"
          ]
        }
      ]
    },
    {
      "cell_type": "code",
      "source": [
        "# 2 ถึง -1 นี่มัน print ยังไงนะ\n",
        "string1 = 'Python'\n",
        "print(string1[2:0])"
      ],
      "metadata": {
        "colab": {
          "base_uri": "https://localhost:8080/"
        },
        "id": "kb0eU6acAnwX",
        "outputId": "251cb852-d28e-4331-a3fd-0a424ffb6c06"
      },
      "execution_count": null,
      "outputs": [
        {
          "output_type": "stream",
          "name": "stdout",
          "text": [
            "\n"
          ]
        }
      ]
    },
    {
      "cell_type": "code",
      "source": [
        "string1 = 'Python'\n",
        "print(string1[-4:5])"
      ],
      "metadata": {
        "colab": {
          "base_uri": "https://localhost:8080/"
        },
        "id": "QI-gf75iAwat",
        "outputId": "c6d2f4ee-034c-459f-fe4b-84ed59646b61"
      },
      "execution_count": null,
      "outputs": [
        {
          "output_type": "stream",
          "name": "stdout",
          "text": [
            "tho\n"
          ]
        }
      ]
    },
    {
      "cell_type": "code",
      "source": [
        "string1 = 'Python'\n",
        "print(string1[-6:5])"
      ],
      "metadata": {
        "colab": {
          "base_uri": "https://localhost:8080/"
        },
        "id": "J17Wu8fjBet0",
        "outputId": "77412323-429b-4f19-c9c3-b8d2fe0cda67"
      },
      "execution_count": null,
      "outputs": [
        {
          "output_type": "stream",
          "name": "stdout",
          "text": [
            "Pytho\n"
          ]
        }
      ]
    },
    {
      "cell_type": "code",
      "source": [
        "string1 = 'Python'\n",
        "print(string1[-4:-1])"
      ],
      "metadata": {
        "colab": {
          "base_uri": "https://localhost:8080/"
        },
        "id": "KW18f70RBp6h",
        "outputId": "6b0d51ee-18f4-48b5-a8c4-0f26f44724fc"
      },
      "execution_count": null,
      "outputs": [
        {
          "output_type": "stream",
          "name": "stdout",
          "text": [
            "tho\n"
          ]
        }
      ]
    },
    {
      "cell_type": "code",
      "source": [
        "string = input('please input the string to count the length')\n",
        "print('The string length is equal to ', len(string))"
      ],
      "metadata": {
        "colab": {
          "base_uri": "https://localhost:8080/"
        },
        "id": "HmFqqoz6BvC-",
        "outputId": "c16d868c-a359-4668-f802-9666020b928f"
      },
      "execution_count": null,
      "outputs": [
        {
          "output_type": "stream",
          "name": "stdout",
          "text": [
            "please input the string to count the lengthหก\n",
            "The string length is equal to  2\n"
          ]
        }
      ]
    },
    {
      "cell_type": "code",
      "source": [
        "# ตรวจสอบว่ามี ก อยู้ใน string หรือไม่ ทำไงวะ\n",
        "string1 = input('please insert string1: ')\n",
        "print('ก' in string1)"
      ],
      "metadata": {
        "colab": {
          "base_uri": "https://localhost:8080/"
        },
        "id": "_RtL8wL1B5MM",
        "outputId": "087f49de-5af1-41ad-f5da-58266c710771"
      },
      "execution_count": null,
      "outputs": [
        {
          "output_type": "stream",
          "name": "stdout",
          "text": [
            "please insert string1: 123ก\n",
            "True\n"
          ]
        }
      ]
    },
    {
      "cell_type": "code",
      "source": [
        "string1 = input('please insert string1 value')\n",
        "string2 = input('please insert string2 value')\n",
        "print(string2 in string1)"
      ],
      "metadata": {
        "colab": {
          "base_uri": "https://localhost:8080/"
        },
        "id": "CJO4l79FCLze",
        "outputId": "83a179ba-8b0f-4613-efc0-c6e5f5bd32a1"
      },
      "execution_count": null,
      "outputs": [
        {
          "output_type": "stream",
          "name": "stdout",
          "text": [
            "please insert string1 valuedv456\n",
            "please insert string2 valuev45\n",
            "True\n"
          ]
        }
      ]
    },
    {
      "cell_type": "code",
      "source": [
        "string1 = 'abc'\n",
        "string2 = string1.replace('a','A')\n",
        "print(string2)"
      ],
      "metadata": {
        "colab": {
          "base_uri": "https://localhost:8080/"
        },
        "id": "kfYnedfLYa9x",
        "outputId": "ffe70313-53ca-43b5-ebfe-2599cce35b70"
      },
      "execution_count": null,
      "outputs": [
        {
          "output_type": "stream",
          "name": "stdout",
          "text": [
            "Abc\n"
          ]
        }
      ]
    },
    {
      "cell_type": "code",
      "source": [
        "string1 = 'We love Python'\n",
        "string2 = string1.split(' ')\n",
        "print(string2)"
      ],
      "metadata": {
        "colab": {
          "base_uri": "https://localhost:8080/"
        },
        "id": "q4v5-RqbZ96d",
        "outputId": "026c83de-105b-4ae0-e5ff-51a1891aeaba"
      },
      "execution_count": null,
      "outputs": [
        {
          "output_type": "stream",
          "name": "stdout",
          "text": [
            "['We', 'love', 'Python']\n"
          ]
        }
      ]
    },
    {
      "cell_type": "code",
      "source": [
        "sentence = input('insert value for sentence: ')\n",
        "c = input('insert value for c')\n",
        "print(sentence.split(c))"
      ],
      "metadata": {
        "colab": {
          "base_uri": "https://localhost:8080/"
        },
        "id": "8hvBLnFKc9lW",
        "outputId": "14253fdd-2423-4714-f4e9-93467377ce7b"
      },
      "execution_count": null,
      "outputs": [
        {
          "output_type": "stream",
          "name": "stdout",
          "text": [
            "insert value for sentence: Py-thon\n",
            "insert value for c-\n",
            "['Py', 'thon']\n"
          ]
        }
      ]
    },
    {
      "cell_type": "code",
      "source": [
        "str1 = input('insert value for str1: ')\n",
        "str2 = input('insert value for str2: ')\n",
        "print(str1+str2)"
      ],
      "metadata": {
        "colab": {
          "base_uri": "https://localhost:8080/"
        },
        "id": "DvcLsMT4eNVD",
        "outputId": "8c77cb07-662b-48e9-db7b-2cd5310b5478"
      },
      "execution_count": null,
      "outputs": [
        {
          "output_type": "stream",
          "name": "stdout",
          "text": [
            "insert value for str1: ac\n",
            "insert value for str2: day\n",
            "acday\n"
          ]
        }
      ]
    },
    {
      "cell_type": "markdown",
      "source": [
        "# List"
      ],
      "metadata": {
        "id": "dSaoq9tiiWyJ"
      }
    },
    {
      "cell_type": "code",
      "source": [
        "x = [0,1,2,'a','b','c']\n",
        "print(x, type(x))"
      ],
      "metadata": {
        "colab": {
          "base_uri": "https://localhost:8080/"
        },
        "id": "udqzV3H2flaq",
        "outputId": "9bdd1456-ab7a-4b5a-97a4-0e03ac28b861"
      },
      "execution_count": null,
      "outputs": [
        {
          "output_type": "stream",
          "name": "stdout",
          "text": [
            "[0, 1, 2, 'a', 'b', 'c'] <class 'list'>\n"
          ]
        }
      ]
    },
    {
      "cell_type": "code",
      "source": [
        "x = [0,1,2,'a','b','c']\n",
        "print(x[2])"
      ],
      "metadata": {
        "colab": {
          "base_uri": "https://localhost:8080/"
        },
        "id": "JXvfKIEwfwps",
        "outputId": "5999f29b-a650-4cf0-c348-818c05a59de9"
      },
      "execution_count": null,
      "outputs": [
        {
          "output_type": "stream",
          "name": "stdout",
          "text": [
            "2\n"
          ]
        }
      ]
    },
    {
      "cell_type": "code",
      "source": [
        "x = [0,1,2,'a','b','c']\n",
        "print(x[-3])"
      ],
      "metadata": {
        "colab": {
          "base_uri": "https://localhost:8080/"
        },
        "id": "mZOEjP5tgHVc",
        "outputId": "3ac61efa-cd62-4c17-8251-a0f8308e1f4e"
      },
      "execution_count": null,
      "outputs": [
        {
          "output_type": "stream",
          "name": "stdout",
          "text": [
            "a\n"
          ]
        }
      ]
    },
    {
      "cell_type": "code",
      "source": [
        "x = [0,1,2,'a','b','c']\n",
        "print(x[0])"
      ],
      "metadata": {
        "colab": {
          "base_uri": "https://localhost:8080/"
        },
        "id": "BveujSvQgMie",
        "outputId": "17244805-47dd-4b74-965a-e7d20fc1b873"
      },
      "execution_count": null,
      "outputs": [
        {
          "output_type": "stream",
          "name": "stdout",
          "text": [
            "0\n"
          ]
        }
      ]
    },
    {
      "cell_type": "code",
      "source": [
        "x = [0,1,2,'a','b','c']\n",
        "print(x[4])"
      ],
      "metadata": {
        "colab": {
          "base_uri": "https://localhost:8080/"
        },
        "id": "LOG83aGLgOsQ",
        "outputId": "9a75f031-4009-46c7-9508-288793b347b0"
      },
      "execution_count": null,
      "outputs": [
        {
          "output_type": "stream",
          "name": "stdout",
          "text": [
            "b\n"
          ]
        }
      ]
    },
    {
      "cell_type": "code",
      "source": [
        "x = [0,1,2,'a','b','c']\n",
        "print(x[2:4])"
      ],
      "metadata": {
        "colab": {
          "base_uri": "https://localhost:8080/"
        },
        "id": "Zg9X4yTVgQyU",
        "outputId": "56bd1c79-4a7c-414d-d7b3-b2b5c046ecda"
      },
      "execution_count": null,
      "outputs": [
        {
          "output_type": "stream",
          "name": "stdout",
          "text": [
            "[2, 'a']\n"
          ]
        }
      ]
    },
    {
      "cell_type": "code",
      "source": [
        "x = [0,1,2,'a','b','c']\n",
        "print(x[1:-1])"
      ],
      "metadata": {
        "colab": {
          "base_uri": "https://localhost:8080/"
        },
        "id": "qPuK6GPkgT2j",
        "outputId": "65503f44-2747-497c-8782-5eecfa5cebf5"
      },
      "execution_count": null,
      "outputs": [
        {
          "output_type": "stream",
          "name": "stdout",
          "text": [
            "[1, 2, 'a', 'b']\n"
          ]
        }
      ]
    },
    {
      "cell_type": "code",
      "source": [
        "x = [0,1,2,'a','b','c']\n",
        "print(x[1:-1])"
      ],
      "metadata": {
        "colab": {
          "base_uri": "https://localhost:8080/"
        },
        "id": "yqGBuliugasG",
        "outputId": "257b09cc-ef0a-44fa-f326-fccab331b99e"
      },
      "execution_count": null,
      "outputs": [
        {
          "output_type": "stream",
          "name": "stdout",
          "text": [
            "[1, 2, 'a', 'b']\n"
          ]
        }
      ]
    },
    {
      "cell_type": "code",
      "source": [
        "x = [0,1,2,'a','b','c']\n",
        "print(x[3:6])"
      ],
      "metadata": {
        "colab": {
          "base_uri": "https://localhost:8080/"
        },
        "id": "tbDDRW8_gmDd",
        "outputId": "cd0e354d-ed55-4b17-e723-c6efed8d7832"
      },
      "execution_count": null,
      "outputs": [
        {
          "output_type": "stream",
          "name": "stdout",
          "text": [
            "['a', 'b', 'c']\n"
          ]
        }
      ]
    },
    {
      "cell_type": "code",
      "source": [
        "x = [0,1,2,'a','b','c']\n",
        "print(x[0:3])"
      ],
      "metadata": {
        "colab": {
          "base_uri": "https://localhost:8080/"
        },
        "id": "xStD6qCUgsnz",
        "outputId": "cbf805a0-8c3b-442c-a4c4-5f024f25263f"
      },
      "execution_count": null,
      "outputs": [
        {
          "output_type": "stream",
          "name": "stdout",
          "text": [
            "[0, 1, 2]\n"
          ]
        }
      ]
    },
    {
      "cell_type": "code",
      "source": [
        "list2 = ['ant', 'bird', 'cat', 'dog', 'eagle']\n",
        "list2[3] = 'duck'\n",
        "print(list2)"
      ],
      "metadata": {
        "id": "gFEgdE3ngvLQ",
        "colab": {
          "base_uri": "https://localhost:8080/"
        },
        "outputId": "e714f3e1-1ce1-45f5-aa29-2722b72015c1"
      },
      "execution_count": null,
      "outputs": [
        {
          "output_type": "stream",
          "name": "stdout",
          "text": [
            "['ant', 'bird', 'cat', 'duck', 'eagle']\n"
          ]
        }
      ]
    },
    {
      "cell_type": "code",
      "source": [
        "list2 = ['ant', 'bird', 'cat', 'dog', 'eagle']\n",
        "list2[0] = 'ape'\n",
        "print(list2)"
      ],
      "metadata": {
        "colab": {
          "base_uri": "https://localhost:8080/"
        },
        "id": "kPkuI0Xsi9vS",
        "outputId": "a6cbbeaf-45d7-4079-9016-fe91c332597d"
      },
      "execution_count": null,
      "outputs": [
        {
          "output_type": "stream",
          "name": "stdout",
          "text": [
            "['ape', 'bird', 'cat', 'dog', 'eagle']\n"
          ]
        }
      ]
    },
    {
      "cell_type": "code",
      "source": [
        "list2 = ['ant', 'bird', 'cat', 'dog', 'eagle']\n",
        "list2.append('fish')\n",
        "print(list2)"
      ],
      "metadata": {
        "colab": {
          "base_uri": "https://localhost:8080/"
        },
        "id": "7mHnxD4sjKNx",
        "outputId": "c1526bc2-7f72-4c2b-852b-e24549ab58ea"
      },
      "execution_count": null,
      "outputs": [
        {
          "output_type": "stream",
          "name": "stdout",
          "text": [
            "['ant', 'bird', 'cat', 'dog', 'eagle', 'fish']\n"
          ]
        }
      ]
    },
    {
      "cell_type": "code",
      "source": [
        "empty_list = []\n",
        "str1 = input('insert value for str1')\n",
        "str2 = input('insert value for str2')\n",
        "str3 = input('insert value for str3')\n",
        "empty_list.append(str1)\n",
        "empty_list.append(str2)\n",
        "empty_list.append(str3)\n",
        "print(empty_list)"
      ],
      "metadata": {
        "colab": {
          "base_uri": "https://localhost:8080/"
        },
        "id": "yjKuAo-IjXRh",
        "outputId": "98cf6f27-d2e9-4234-d72d-424a60f81ccc"
      },
      "execution_count": null,
      "outputs": [
        {
          "output_type": "stream",
          "name": "stdout",
          "text": [
            "insert value for str11\n",
            "insert value for str22\n",
            "insert value for str33\n",
            "['1', '2', '3']\n"
          ]
        }
      ]
    },
    {
      "cell_type": "code",
      "source": [
        "list3 = ['apple', 'cherry', 'eggfruit']\n",
        "list3[1] = 'banana'\n",
        "print(list3)"
      ],
      "metadata": {
        "colab": {
          "base_uri": "https://localhost:8080/"
        },
        "id": "Nys47zU_BOoR",
        "outputId": "58881917-b6f0-49d3-c018-c31374fa5c7b"
      },
      "execution_count": null,
      "outputs": [
        {
          "output_type": "stream",
          "name": "stdout",
          "text": [
            "['apple', 'banana', 'eggfruit']\n"
          ]
        }
      ]
    },
    {
      "cell_type": "code",
      "source": [
        "list3 = ['apple', 'banana', 'cherry', 'eggfruit']\n",
        "list3[-2] = 'kiwi'\n",
        "print(list3)"
      ],
      "metadata": {
        "colab": {
          "base_uri": "https://localhost:8080/"
        },
        "id": "C41KE3CdBzUN",
        "outputId": "d912e81c-97ac-4858-d99c-d2d17133a4e9"
      },
      "execution_count": null,
      "outputs": [
        {
          "output_type": "stream",
          "name": "stdout",
          "text": [
            "['apple', 'banana', 'kiwi', 'eggfruit']\n"
          ]
        }
      ]
    },
    {
      "cell_type": "code",
      "source": [
        "list4 = [0, 4, 2, 3, 1]\n",
        "list4.sort()\n",
        "print(list4)"
      ],
      "metadata": {
        "colab": {
          "base_uri": "https://localhost:8080/"
        },
        "id": "rA9TqGA3CAuP",
        "outputId": "044ea953-bb17-46e9-c4ef-7b38de768db9"
      },
      "execution_count": null,
      "outputs": [
        {
          "output_type": "stream",
          "name": "stdout",
          "text": [
            "[0, 1, 2, 3, 4]\n"
          ]
        }
      ]
    },
    {
      "cell_type": "code",
      "source": [
        "list4 = [0, 4, 2, 3, 1]\n",
        "list4.sort(reverse=True)\n",
        "print(list4)"
      ],
      "metadata": {
        "colab": {
          "base_uri": "https://localhost:8080/"
        },
        "id": "TZ44yV2tCPd9",
        "outputId": "0050bdcd-8ad3-459f-dfb4-fa4da4627e07"
      },
      "execution_count": null,
      "outputs": [
        {
          "output_type": "stream",
          "name": "stdout",
          "text": [
            "[4, 3, 2, 1, 0]\n"
          ]
        }
      ]
    },
    {
      "cell_type": "code",
      "source": [
        "list4 = [0, 4, 2, 3, 1]\n",
        "sorted_list = sorted(list4)\n",
        "print(sorted_list)"
      ],
      "metadata": {
        "colab": {
          "base_uri": "https://localhost:8080/"
        },
        "id": "0N9B1aW_CTeK",
        "outputId": "59795ba6-a667-4418-ea00-96a0afae2593"
      },
      "execution_count": null,
      "outputs": [
        {
          "output_type": "stream",
          "name": "stdout",
          "text": [
            "[0, 1, 2, 3, 4]\n"
          ]
        }
      ]
    },
    {
      "cell_type": "code",
      "source": [
        "# เปรียบเทียบความต่างระหว่างการแก้ใน list เดิม กับการสร้างใน list ใหม่ขึ้นมา\n",
        "list4 = [0, 4, 2, 3, 1]\n",
        "sorted_list = list4.sort()\n",
        "print(list4)\n",
        "print(sorted_list)"
      ],
      "metadata": {
        "colab": {
          "base_uri": "https://localhost:8080/"
        },
        "id": "pItzg_wRCZYS",
        "outputId": "71b8745a-57e9-4b81-d1fa-3776bcd4c0d8"
      },
      "execution_count": null,
      "outputs": [
        {
          "output_type": "stream",
          "name": "stdout",
          "text": [
            "[0, 1, 2, 3, 4]\n",
            "None\n"
          ]
        }
      ]
    },
    {
      "cell_type": "code",
      "source": [
        "list5 = ['d', 'a', 'c', 'b', 'e']\n",
        "list5.sort()\n",
        "print(list5)"
      ],
      "metadata": {
        "colab": {
          "base_uri": "https://localhost:8080/"
        },
        "id": "XNJgoY38KO7K",
        "outputId": "17d22373-bd10-4e21-d432-d2b85fc69d9e"
      },
      "execution_count": null,
      "outputs": [
        {
          "output_type": "stream",
          "name": "stdout",
          "text": [
            "['a', 'b', 'c', 'd', 'e']\n"
          ]
        }
      ]
    },
    {
      "cell_type": "code",
      "source": [
        "list5 = ['d', 'a', 'c', 'b', 'e']\n",
        "sorted_list = sorted(list5, reverse=True)\n",
        "print(sorted_list)"
      ],
      "metadata": {
        "colab": {
          "base_uri": "https://localhost:8080/"
        },
        "id": "3mhHyai9KtHt",
        "outputId": "608ffc39-7ca5-4516-ccfe-e990e4646740"
      },
      "execution_count": null,
      "outputs": [
        {
          "output_type": "stream",
          "name": "stdout",
          "text": [
            "['e', 'd', 'c', 'b', 'a']\n"
          ]
        }
      ]
    },
    {
      "cell_type": "code",
      "source": [
        "# extend กับ append ไม่เหมือนกัน\n",
        "list1 = ['a', 'b', 'c']\n",
        "list2 = [0, 1, 2]\n",
        "list1.append(list2)\n",
        "print(list1)\n",
        "list1 = ['a', 'b', 'c']\n",
        "list1.extend(list2)\n",
        "print(list1)\n",
        "print(list2)"
      ],
      "metadata": {
        "colab": {
          "base_uri": "https://localhost:8080/"
        },
        "id": "7J9ue9MpK4Y4",
        "outputId": "b8df370e-5d36-4371-a686-1666daf29019"
      },
      "execution_count": null,
      "outputs": [
        {
          "output_type": "stream",
          "name": "stdout",
          "text": [
            "['a', 'b', 'c', [0, 1, 2]]\n",
            "['a', 'b', 'c', 0, 1, 2]\n",
            "[0, 1, 2]\n"
          ]
        }
      ]
    },
    {
      "cell_type": "code",
      "source": [
        "list1 = ['a','b','c']\n",
        "list2 = [0, 1, 2]\n",
        "list3 = list1 + list2\n",
        "print(list1)\n",
        "print(list2)\n",
        "print(list3)"
      ],
      "metadata": {
        "colab": {
          "base_uri": "https://localhost:8080/"
        },
        "id": "sYKDyOljLYcM",
        "outputId": "b82404f4-b890-4ae1-cb1b-bd2f834173bb"
      },
      "execution_count": null,
      "outputs": [
        {
          "output_type": "stream",
          "name": "stdout",
          "text": [
            "['a', 'b', 'c']\n",
            "[0, 1, 2]\n",
            "['a', 'b', 'c', 0, 1, 2]\n"
          ]
        }
      ]
    },
    {
      "cell_type": "code",
      "source": [
        "list1 = [1,2,3,1,2,3]\n",
        "del list1[1]\n",
        "print(list1)"
      ],
      "metadata": {
        "colab": {
          "base_uri": "https://localhost:8080/"
        },
        "id": "HGdEpwi2MKSY",
        "outputId": "7ab4cceb-f1fb-4896-c0e6-ad0d08d0c2af"
      },
      "execution_count": null,
      "outputs": [
        {
          "output_type": "stream",
          "name": "stdout",
          "text": [
            "[1, 3, 1, 2, 3]\n"
          ]
        }
      ]
    },
    {
      "cell_type": "code",
      "source": [
        "list1 = [1,2,3,1,2,3]\n",
        "del list1[2]\n",
        "del list1[-1]\n",
        "print(list1)"
      ],
      "metadata": {
        "colab": {
          "base_uri": "https://localhost:8080/"
        },
        "id": "RU8-LOiNMnZm",
        "outputId": "a65dec66-6b44-488f-8688-a70fc04a5d52"
      },
      "execution_count": null,
      "outputs": [
        {
          "output_type": "stream",
          "name": "stdout",
          "text": [
            "[1, 2, 1, 2]\n"
          ]
        }
      ]
    },
    {
      "cell_type": "code",
      "source": [
        "list1 = [1,2,3,1,2,3]\n",
        "list1.remove(2)\n",
        "list1.remove(3)\n",
        "print(list1)"
      ],
      "metadata": {
        "colab": {
          "base_uri": "https://localhost:8080/"
        },
        "id": "oxranwVEM2iw",
        "outputId": "db5ab595-5754-44ca-a1c1-34d83899ee08"
      },
      "execution_count": null,
      "outputs": [
        {
          "output_type": "stream",
          "name": "stdout",
          "text": [
            "[1, 1, 2, 3]\n"
          ]
        }
      ]
    },
    {
      "cell_type": "code",
      "source": [
        "list1 = [1,2,3,1,2,3]\n",
        "list1.clear()\n",
        "print(list1)"
      ],
      "metadata": {
        "colab": {
          "base_uri": "https://localhost:8080/"
        },
        "id": "ol0r37TBM9RD",
        "outputId": "3c88f77c-ff47-4c3d-8b6c-f66aedd2c05c"
      },
      "execution_count": null,
      "outputs": [
        {
          "output_type": "stream",
          "name": "stdout",
          "text": [
            "[]\n"
          ]
        }
      ]
    },
    {
      "cell_type": "code",
      "source": [
        "list1 = [1,2,3,'a','b','c']\n",
        "print(len(list1))"
      ],
      "metadata": {
        "colab": {
          "base_uri": "https://localhost:8080/"
        },
        "id": "LTE5UMx4NXrL",
        "outputId": "820e8eb0-0303-475a-df26-9127c8f7d9e4"
      },
      "execution_count": null,
      "outputs": [
        {
          "output_type": "stream",
          "name": "stdout",
          "text": [
            "6\n"
          ]
        }
      ]
    },
    {
      "cell_type": "code",
      "source": [
        "list1 = [1, 2, 3, 4, 5]\n",
        "numeric1 = int(input(\"please insert numeric1 value: \"))\n",
        "print(numeric1 in list1)"
      ],
      "metadata": {
        "colab": {
          "base_uri": "https://localhost:8080/"
        },
        "id": "HxYf4Q-mNlqz",
        "outputId": "3c7f6b69-64a1-4a1b-851f-d7eb318cd55e"
      },
      "execution_count": null,
      "outputs": [
        {
          "output_type": "stream",
          "name": "stdout",
          "text": [
            "please insert numeric1 value: 4\n",
            "True\n"
          ]
        }
      ]
    }
  ]
}