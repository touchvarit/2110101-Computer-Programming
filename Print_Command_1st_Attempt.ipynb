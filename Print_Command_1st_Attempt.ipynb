{
  "nbformat": 4,
  "nbformat_minor": 0,
  "metadata": {
    "colab": {
      "provenance": []
    },
    "kernelspec": {
      "name": "python3",
      "display_name": "Python 3"
    },
    "language_info": {
      "name": "python"
    }
  },
  "cells": [
    {
      "cell_type": "markdown",
      "source": [
        "# Print Command - The First Time\n",
        "\n"
      ],
      "metadata": {
        "id": "IE-9AWBQMSID"
      }
    },
    {
      "cell_type": "code",
      "source": [
        "print (\"Hello\")"
      ],
      "metadata": {
        "colab": {
          "base_uri": "https://localhost:8080/"
        },
        "id": "_9HkexzZMknn",
        "outputId": "2fab0c41-0805-40e0-ef7d-771cbdf913bc"
      },
      "execution_count": null,
      "outputs": [
        {
          "output_type": "stream",
          "name": "stdout",
          "text": [
            "Hello\n"
          ]
        }
      ]
    },
    {
      "cell_type": "code",
      "source": [
        "print(\"Hello World\")"
      ],
      "metadata": {
        "colab": {
          "base_uri": "https://localhost:8080/"
        },
        "id": "0dUxAmrMMzMQ",
        "outputId": "1193950a-3ae2-4da6-e1b0-be8b4475feaa"
      },
      "execution_count": null,
      "outputs": [
        {
          "output_type": "stream",
          "name": "stdout",
          "text": [
            "Hello World\n"
          ]
        }
      ]
    },
    {
      "cell_type": "code",
      "source": [
        "print(\"hello_python\")"
      ],
      "metadata": {
        "colab": {
          "base_uri": "https://localhost:8080/"
        },
        "id": "yXgTb7WgM4lg",
        "outputId": "3b2ce7d1-f9cf-4ffa-9a4e-fdd582385f75"
      },
      "execution_count": null,
      "outputs": [
        {
          "output_type": "stream",
          "name": "stdout",
          "text": [
            "hello_python\n"
          ]
        }
      ]
    },
    {
      "cell_type": "code",
      "source": [
        "print(\"Merry X'Mas\")"
      ],
      "metadata": {
        "colab": {
          "base_uri": "https://localhost:8080/"
        },
        "id": "IyeU2nluM906",
        "outputId": "7a02b700-3667-493d-dbe6-faa9b489f3e7"
      },
      "execution_count": null,
      "outputs": [
        {
          "output_type": "stream",
          "name": "stdout",
          "text": [
            "Merry X'Mas\n"
          ]
        }
      ]
    },
    {
      "cell_type": "code",
      "source": [
        "print('''I want to ask you \"Why don't you drive to work ?\"''')"
      ],
      "metadata": {
        "colab": {
          "base_uri": "https://localhost:8080/"
        },
        "id": "ww6thXWYNDx2",
        "outputId": "d18403d8-8074-4087-f2ab-f5e743e31fb3"
      },
      "execution_count": 48,
      "outputs": [
        {
          "output_type": "stream",
          "name": "stdout",
          "text": [
            "I want to ask you \"Why don't you drive to work ?\"\n",
            "I want to ask you \"Why don't you drive to work ?\n"
          ]
        }
      ]
    },
    {
      "cell_type": "code",
      "source": [
        "print('''\"I don't have a car\"''')"
      ],
      "metadata": {
        "colab": {
          "base_uri": "https://localhost:8080/"
        },
        "id": "EKOgrMU4Ve5c",
        "outputId": "adb8e095-3cb2-4b99-c560-2dea3a759cbd"
      },
      "execution_count": 50,
      "outputs": [
        {
          "output_type": "stream",
          "name": "stdout",
          "text": [
            "\"I don't have a car\"\n",
            "\"I don't have a car\"\n"
          ]
        }
      ]
    },
    {
      "cell_type": "code",
      "source": [
        "print(\"You got a new job !? That's so exciting\")"
      ],
      "metadata": {
        "colab": {
          "base_uri": "https://localhost:8080/"
        },
        "id": "gD__NOXhVsou",
        "outputId": "92b5b407-4c91-467d-a9bd-676fb57ca50b"
      },
      "execution_count": null,
      "outputs": [
        {
          "output_type": "stream",
          "name": "stdout",
          "text": [
            "You got a new job !? That's so exciting\n"
          ]
        }
      ]
    },
    {
      "cell_type": "code",
      "source": [
        "print(\"สวัสดีวันจันทร์\")"
      ],
      "metadata": {
        "colab": {
          "base_uri": "https://localhost:8080/"
        },
        "id": "N4sVRn4qWH0C",
        "outputId": "1f9dca7f-80b5-4944-afe7-42e443f1ab54"
      },
      "execution_count": null,
      "outputs": [
        {
          "output_type": "stream",
          "name": "stdout",
          "text": [
            "สวัสดีวันจันทร์\n"
          ]
        }
      ]
    },
    {
      "cell_type": "code",
      "source": [
        "print('ความแตกต่างระหว่างคนเก่งกับคนไม่เก่ง คือ \"การใช้เวลาว่างให้เป็นประโยชน์\"')"
      ],
      "metadata": {
        "colab": {
          "base_uri": "https://localhost:8080/"
        },
        "id": "zr8cGQmGWM9o",
        "outputId": "0d93bfcc-d69b-4549-8573-9f8b711181e7"
      },
      "execution_count": null,
      "outputs": [
        {
          "output_type": "stream",
          "name": "stdout",
          "text": [
            "ความแตกต่างระหว่างคนเก่งกับคนไม่เก่ง คือ \"การใช้เวลาว่างให้เป็นประโยชน์\"\n"
          ]
        }
      ]
    },
    {
      "cell_type": "code",
      "source": [
        "print(\"^^^\") #incorrect"
      ],
      "metadata": {
        "colab": {
          "base_uri": "https://localhost:8080/"
        },
        "id": "mQMMNNSpY-oP",
        "outputId": "136df6a3-8ec3-4ca4-cf86-94b6319d2d08"
      },
      "execution_count": 54,
      "outputs": [
        {
          "output_type": "stream",
          "name": "stdout",
          "text": [
            "^^^\n",
            "/\\/\\/\\\n"
          ]
        }
      ]
    },
    {
      "cell_type": "code",
      "source": [
        "print (\"a\\nan\\nant\")"
      ],
      "metadata": {
        "colab": {
          "base_uri": "https://localhost:8080/"
        },
        "id": "dQKnRW9WZJW0",
        "outputId": "70796eaa-b5ea-43a9-95f1-f42d42230022"
      },
      "execution_count": null,
      "outputs": [
        {
          "output_type": "stream",
          "name": "stdout",
          "text": [
            "a\n",
            "an\n",
            "ant\n"
          ]
        }
      ]
    },
    {
      "cell_type": "code",
      "source": [
        "print(\"    *   \")\n",
        "print(\"*   *   *\")\n",
        "print(\"    *   \")"
      ],
      "metadata": {
        "colab": {
          "base_uri": "https://localhost:8080/"
        },
        "id": "EaJ_--6bZlgh",
        "outputId": "0e83082a-4096-41fe-de36-48eed9901bcd"
      },
      "execution_count": 1,
      "outputs": [
        {
          "output_type": "stream",
          "name": "stdout",
          "text": [
            "    *   \n",
            "*   *   *\n",
            "    *   \n"
          ]
        }
      ]
    },
    {
      "cell_type": "code",
      "source": [
        "print(\"*    +    *\")\n",
        "print(\"+    *    +\")\n",
        "print(\"*    +    *\")"
      ],
      "metadata": {
        "colab": {
          "base_uri": "https://localhost:8080/"
        },
        "id": "Jkf7ALxM3L2G",
        "outputId": "246d68e8-2302-4885-9aef-2110cb2df3ca"
      },
      "execution_count": 5,
      "outputs": [
        {
          "output_type": "stream",
          "name": "stdout",
          "text": [
            "*    +    *\n",
            "+    *    +\n",
            "*    +    *\n"
          ]
        }
      ]
    },
    {
      "cell_type": "code",
      "source": [
        "print(\"Just because something\\nthinks differently from you,\\ndoes that mean it's not thinking ?\")"
      ],
      "metadata": {
        "colab": {
          "base_uri": "https://localhost:8080/"
        },
        "id": "Gn1x4iaF3lC9",
        "outputId": "a3718b70-f5c1-4702-f7bb-eebae136e22e"
      },
      "execution_count": 6,
      "outputs": [
        {
          "output_type": "stream",
          "name": "stdout",
          "text": [
            "Just because something\n",
            "thinks differently from you,\n",
            "does that mean it's not thinking ?\n"
          ]
        }
      ]
    },
    {
      "cell_type": "code",
      "source": [
        "print(\"\\\\       /\")\n",
        "print(\"    x    \")\n",
        "print(\"/       \\\\\")"
      ],
      "metadata": {
        "colab": {
          "base_uri": "https://localhost:8080/"
        },
        "id": "jSB0-pf_3vE8",
        "outputId": "26cb299b-e320-4bef-a44b-568a6f25d3b0"
      },
      "execution_count": 10,
      "outputs": [
        {
          "output_type": "stream",
          "name": "stdout",
          "text": [
            "\\       /\n",
            "    x    \n",
            "/       \\\n"
          ]
        }
      ]
    },
    {
      "cell_type": "code",
      "source": [
        "print(25)"
      ],
      "metadata": {
        "colab": {
          "base_uri": "https://localhost:8080/"
        },
        "id": "0xrkKdtQ4A9j",
        "outputId": "18e63ab7-a621-4e9b-9233-dabf0674c1a6"
      },
      "execution_count": 11,
      "outputs": [
        {
          "output_type": "stream",
          "name": "stdout",
          "text": [
            "25\n"
          ]
        }
      ]
    },
    {
      "cell_type": "code",
      "source": [
        "print(\"100.000000\")"
      ],
      "metadata": {
        "colab": {
          "base_uri": "https://localhost:8080/"
        },
        "id": "Zb24b22h4C5e",
        "outputId": "3c843281-9eed-45fe-f16a-025ca6c1f0a7"
      },
      "execution_count": 15,
      "outputs": [
        {
          "output_type": "stream",
          "name": "stdout",
          "text": [
            "100.000000\n"
          ]
        }
      ]
    },
    {
      "cell_type": "code",
      "source": [
        "print(\"3.141592683589793\")"
      ],
      "metadata": {
        "colab": {
          "base_uri": "https://localhost:8080/"
        },
        "id": "HJvbvkS_4J0x",
        "outputId": "492f328d-8ae5-4ccc-ca7e-50d9ba21f1bc"
      },
      "execution_count": 16,
      "outputs": [
        {
          "output_type": "stream",
          "name": "stdout",
          "text": [
            "3.141592683589793\n"
          ]
        }
      ]
    },
    {
      "cell_type": "code",
      "source": [
        "a=2\n",
        "print(a)"
      ],
      "metadata": {
        "colab": {
          "base_uri": "https://localhost:8080/"
        },
        "id": "3e7K4Ofs4RIU",
        "outputId": "f7ded3b8-bb01-48e2-fcb8-dc23ae8beb16"
      },
      "execution_count": 17,
      "outputs": [
        {
          "output_type": "stream",
          "name": "stdout",
          "text": [
            "2\n"
          ]
        }
      ]
    },
    {
      "cell_type": "code",
      "source": [
        "a=12.5\n",
        "print(a)"
      ],
      "metadata": {
        "colab": {
          "base_uri": "https://localhost:8080/"
        },
        "id": "PKziVj974XqC",
        "outputId": "2e177b9b-7b36-4ba7-d9ff-dad9742a6eb2"
      },
      "execution_count": 18,
      "outputs": [
        {
          "output_type": "stream",
          "name": "stdout",
          "text": [
            "12.5\n"
          ]
        }
      ]
    },
    {
      "cell_type": "code",
      "source": [
        "a = 2\n",
        "b = 3\n",
        "print(\"2 x 3 =\",a*b)"
      ],
      "metadata": {
        "colab": {
          "base_uri": "https://localhost:8080/"
        },
        "id": "XZmhKtDq4ZzL",
        "outputId": "47a232ad-ad55-4eda-bffa-e40abab70ac6"
      },
      "execution_count": 22,
      "outputs": [
        {
          "output_type": "stream",
          "name": "stdout",
          "text": [
            "2 x 3 = 6\n"
          ]
        }
      ]
    },
    {
      "cell_type": "code",
      "source": [
        "a = 2\n",
        "b = 3\n",
        "print(\"2 + 3 = 3 + 2 =\",a+b)"
      ],
      "metadata": {
        "colab": {
          "base_uri": "https://localhost:8080/"
        },
        "id": "5k03Olp54eR0",
        "outputId": "f0b39755-0957-4979-a041-298bfc8d6d13"
      },
      "execution_count": 23,
      "outputs": [
        {
          "output_type": "stream",
          "name": "stdout",
          "text": [
            "2 + 3 = 3 + 2 = 5\n"
          ]
        }
      ]
    },
    {
      "cell_type": "code",
      "source": [
        "a = 2\n",
        "b = 3\n",
        "c = 5\n",
        "print(\"2*(3+5) = 2*3 + 2*5\")"
      ],
      "metadata": {
        "colab": {
          "base_uri": "https://localhost:8080/"
        },
        "id": "-qtQJ7_G4hnS",
        "outputId": "41971b18-3c0d-41f6-d772-2b2b99828f9a"
      },
      "execution_count": 24,
      "outputs": [
        {
          "output_type": "stream",
          "name": "stdout",
          "text": [
            "2*(3+5) = 2*3 + 2*5\n"
          ]
        }
      ]
    },
    {
      "cell_type": "code",
      "source": [
        "a = 2.4\n",
        "b = 2.5\n",
        "c = a+b\n",
        "print(\"%.4f\" % c)"
      ],
      "metadata": {
        "colab": {
          "base_uri": "https://localhost:8080/"
        },
        "id": "cnZxbmLY5Laj",
        "outputId": "2a0b9740-61a5-4070-e663-6e7bea2de236"
      },
      "execution_count": 33,
      "outputs": [
        {
          "output_type": "stream",
          "name": "stdout",
          "text": [
            "4.9000\n"
          ]
        }
      ]
    },
    {
      "cell_type": "code",
      "source": [
        "a = 5\n",
        "b = 2\n",
        "c = a - b\n",
        "print(\"%.2f\" % a, \"-\", \"%.2f\" % b, \"=\", \"%.4f\" % c )"
      ],
      "metadata": {
        "colab": {
          "base_uri": "https://localhost:8080/"
        },
        "id": "iA7rhRMU5WF-",
        "outputId": "e9a10b05-39cc-4f44-c6c3-70fd1084268a"
      },
      "execution_count": 39,
      "outputs": [
        {
          "output_type": "stream",
          "name": "stdout",
          "text": [
            "5.00 - 2.00 = 3.0000\n"
          ]
        }
      ]
    },
    {
      "cell_type": "code",
      "source": [
        "birthday = 25\n",
        "print(\"ฉันเกิดวันที่\", birthday, \"ธันวาคม\")"
      ],
      "metadata": {
        "colab": {
          "base_uri": "https://localhost:8080/"
        },
        "id": "e9GvIn4O8mQq",
        "outputId": "55b43eba-aec2-49c8-d93a-45798ad7a67d"
      },
      "execution_count": 41,
      "outputs": [
        {
          "output_type": "stream",
          "name": "stdout",
          "text": [
            "ฉันเกิดวันที่ 25 ธันวาคม\n"
          ]
        }
      ]
    },
    {
      "cell_type": "code",
      "source": [
        "a = 5\n",
        "b = 100\n",
        "c = a*b\n",
        "print(a, \"เท่าของ\", b, \"มีค่าเท่ากับ\",c)"
      ],
      "metadata": {
        "colab": {
          "base_uri": "https://localhost:8080/"
        },
        "id": "-YMQyM9a9AwX",
        "outputId": "6cec35c4-27f9-47b7-aaca-946c84c52f52"
      },
      "execution_count": 42,
      "outputs": [
        {
          "output_type": "stream",
          "name": "stdout",
          "text": [
            "5 เท่าของ 100 มีค่าเท่ากับ 500\n"
          ]
        }
      ]
    },
    {
      "cell_type": "code",
      "source": [
        "a = 3.5\n",
        "print(\"เขามีเงินเยอะกว่าฉัน\", a, \"บาท\")"
      ],
      "metadata": {
        "colab": {
          "base_uri": "https://localhost:8080/"
        },
        "id": "tfuDaAi-9USg",
        "outputId": "2355a9f7-8dec-4724-dd43-362bb9af9e88"
      },
      "execution_count": 43,
      "outputs": [
        {
          "output_type": "stream",
          "name": "stdout",
          "text": [
            "เขามีเงินเยอะกว่าฉัน 3.5 บาท\n"
          ]
        }
      ]
    },
    {
      "cell_type": "code",
      "source": [
        "a = 5\n",
        "print(\"เขาได้กำไร\", a, \"%\")"
      ],
      "metadata": {
        "colab": {
          "base_uri": "https://localhost:8080/"
        },
        "id": "fX2yc5329Z1Z",
        "outputId": "f56f881b-d367-4bd6-8b5d-e0349008f15f"
      },
      "execution_count": 44,
      "outputs": [
        {
          "output_type": "stream",
          "name": "stdout",
          "text": [
            "เขามีเงินเยอะกว่าฉัน 5 บาท\n"
          ]
        }
      ]
    },
    {
      "cell_type": "code",
      "source": [
        "a = 2\n",
        "b = 3.5\n",
        "print(\"เมื่อวานฉันขาดทุน\", a, \"%\", \"วันนี้ฉันได้กำไร\", \"%.2f\" % b, \"%\")"
      ],
      "metadata": {
        "colab": {
          "base_uri": "https://localhost:8080/"
        },
        "id": "C7dFGOY99f6V",
        "outputId": "05c639e7-d8e9-4a8e-dd14-d94304e2db4e"
      },
      "execution_count": 46,
      "outputs": [
        {
          "output_type": "stream",
          "name": "stdout",
          "text": [
            "เมื่อวานฉันขาดทุน 2 % วันนี้ฉันได้กำไร 3.50 %\n"
          ]
        }
      ]
    }
  ]
}