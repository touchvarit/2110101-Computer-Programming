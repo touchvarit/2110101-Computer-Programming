{
  "nbformat": 4,
  "nbformat_minor": 0,
  "metadata": {
    "colab": {
      "provenance": [],
      "authorship_tag": "ABX9TyNVZLGfWz0EfN7QGmiv+ytG",
      "include_colab_link": true
    },
    "kernelspec": {
      "name": "python3",
      "display_name": "Python 3"
    },
    "language_info": {
      "name": "python"
    }
  },
  "cells": [
    {
      "cell_type": "markdown",
      "metadata": {
        "id": "view-in-github",
        "colab_type": "text"
      },
      "source": [
        "<a href=\"https://colab.research.google.com/github/touchvarit/Python-500-Problems-by-Tautology/blob/main/If_Else_(Code_Flowchart)_1st_Attempt.ipynb\" target=\"_parent\"><img src=\"https://colab.research.google.com/assets/colab-badge.svg\" alt=\"Open In Colab\"/></a>"
      ]
    },
    {
      "cell_type": "code",
      "source": [
        "if condition1:\n",
        "  operation1\n",
        "else:\n",
        "  operation2\n",
        "operation3\n",
        "operation4"
      ],
      "metadata": {
        "id": "PBAuoz5pYPHY"
      },
      "execution_count": null,
      "outputs": []
    },
    {
      "cell_type": "code",
      "source": [
        "if condition1:\n",
        "  operation1\n",
        "else:\n",
        "  operation2"
      ],
      "metadata": {
        "id": "odeezXuO0_Va"
      },
      "execution_count": null,
      "outputs": []
    },
    {
      "cell_type": "code",
      "source": [
        "if condition1:\n",
        "  operation1\n",
        "operation2"
      ],
      "metadata": {
        "id": "tl5xzA2i1ftO"
      },
      "execution_count": null,
      "outputs": []
    },
    {
      "cell_type": "code",
      "source": [
        "if condition1:\n",
        "  operation1"
      ],
      "metadata": {
        "id": "93qrwqc61UBA"
      },
      "execution_count": null,
      "outputs": []
    },
    {
      "cell_type": "code",
      "source": [
        "if condition1:\n",
        "  operation1\n",
        "else:\n",
        "  if condition2:\n",
        "    operation2\n",
        "  else:\n",
        "    operation3"
      ],
      "metadata": {
        "id": "n6_ILALt1VT9"
      },
      "execution_count": null,
      "outputs": []
    },
    {
      "cell_type": "code",
      "source": [
        "if condition1:\n",
        "  operation1\n",
        "else:\n",
        "  if condition2:\n",
        "    operation2\n",
        "  else:\n",
        "    if condition3:\n",
        "      operation3\n",
        "    else:\n",
        "      operation4\n",
        "operation5"
      ],
      "metadata": {
        "id": "I9wdNMhU1z8y"
      },
      "execution_count": null,
      "outputs": []
    },
    {
      "cell_type": "code",
      "source": [
        "if condition1:\n",
        "  operation1\n",
        "else:\n",
        "  if condition2:\n",
        "    operation2\n",
        "  else:\n",
        "    if condition3:\n",
        "      operation3\n",
        "    else:\n",
        "      operation4\n",
        "operation5"
      ],
      "metadata": {
        "id": "IufjEDDW2UKM"
      },
      "execution_count": null,
      "outputs": []
    },
    {
      "cell_type": "code",
      "source": [
        "if condition1:\n",
        "  operation1\n",
        "else:\n",
        "  if condition2:\n",
        "    operation2\n",
        "  else:\n",
        "    if condition3:\n",
        "      operation3\n",
        "    else:\n",
        "      operation4\n",
        "      operation5\n",
        "\n",
        "  if condition1:\n",
        "    operation1\n",
        "  elif condition2:\n",
        "    operation2\n",
        "  elif condition3:\n",
        "    operation3\n",
        "  else:\n",
        "    operation4\n",
        "    operation5"
      ],
      "metadata": {
        "id": "sLz_j_6q2qQz"
      },
      "execution_count": null,
      "outputs": []
    },
    {
      "cell_type": "code",
      "source": [
        "if condition1:\n",
        "  operation1\n",
        "elif confition2:\n",
        "  operation2\n",
        "operation3"
      ],
      "metadata": {
        "id": "24A_VXh45O4v"
      },
      "execution_count": null,
      "outputs": []
    },
    {
      "cell_type": "code",
      "source": [
        "if condition1:\n",
        "  operation1\n",
        "  operation2\n",
        "elif condition2:\n",
        "  operation3"
      ],
      "metadata": {
        "id": "8zrm497S5dkd"
      },
      "execution_count": null,
      "outputs": []
    },
    {
      "cell_type": "code",
      "source": [
        "if condition1:\n",
        "  operation1\n",
        "  operation2\n",
        "elif condition2:\n",
        "  operation3"
      ],
      "metadata": {
        "id": "wRu_YSSv5540"
      },
      "execution_count": null,
      "outputs": []
    },
    {
      "cell_type": "code",
      "source": [
        "if condition1:\n",
        "  operation1\n",
        "elif condition2:\n",
        "  operation2\n",
        "elif condition3:\n",
        "  operation3\n",
        "operation4"
      ],
      "metadata": {
        "id": "kWItIM-y5-7a"
      },
      "execution_count": null,
      "outputs": []
    },
    {
      "cell_type": "code",
      "source": [
        "if condition1:\n",
        "  operation1\n",
        "  operation2\n",
        "elif condition2:\n",
        "  operation3\n",
        "elif confition3:\n",
        "  operation4"
      ],
      "metadata": {
        "id": "5FjzUdwu6CJH"
      },
      "execution_count": null,
      "outputs": []
    },
    {
      "cell_type": "code",
      "source": [
        "if condition1:\n",
        "  if condition2:\n",
        "    operation1\n",
        "  operation2\n",
        "else:\n",
        "  operation3\n",
        "  if condition3:\n",
        "    operation4\n",
        "  elif condition4:\n",
        "    operation5\n",
        "    operation6\n",
        "operation7"
      ],
      "metadata": {
        "id": "arf3Gkhw6NRO"
      },
      "execution_count": null,
      "outputs": []
    },
    {
      "cell_type": "code",
      "source": [
        "if condition1:\n",
        "  operation1\n",
        "elif condition2:\n",
        "  operation2\n",
        "operation3"
      ],
      "metadata": {
        "id": "vdPASNL07sY1"
      },
      "execution_count": null,
      "outputs": []
    },
    {
      "cell_type": "code",
      "source": [
        "# ตั้งแต่ประมาณช่องที่ 9 นับจากด้านบน เราเผลอไปเอาเฉลยบทที่แล้วมาเป็นโจทย์แทน โดยตั้งแต่ช่องนี้จะกลับมาใช้โจทย์ข้อ 9 ของบทปัจจุบันต่อตามเดิม\n",
        "\n",
        "if condition1:\n",
        "  operation1\n",
        "elif condition2:\n",
        "  operation2\n",
        "operation3"
      ],
      "metadata": {
        "id": "X5BT1gCZ7zbA"
      },
      "execution_count": null,
      "outputs": []
    },
    {
      "cell_type": "code",
      "source": [
        "if condition1:\n",
        "  operation1\n",
        "elif condition2:\n",
        "  operation2"
      ],
      "metadata": {
        "id": "Kg32Xo2H8U_T"
      },
      "execution_count": null,
      "outputs": []
    },
    {
      "cell_type": "code",
      "source": [
        "if condition1:\n",
        "  operation1\n",
        "elif condition2:\n",
        "  operation2\n",
        "elif condition3:\n",
        "  operation3\n",
        "  operation4\n",
        "operation5"
      ],
      "metadata": {
        "id": "Wbkgd93f8hqK"
      },
      "execution_count": null,
      "outputs": []
    },
    {
      "cell_type": "code",
      "source": [
        "if condition1:\n",
        "  operation1\n",
        "elif condition2:\n",
        "  operation2\n",
        "elif condition3:\n",
        "  operation3"
      ],
      "metadata": {
        "id": "Le9PJhoH8r5I"
      },
      "execution_count": null,
      "outputs": []
    },
    {
      "cell_type": "code",
      "source": [
        "if condition1:\n",
        "  if condition2:\n",
        "    operation1\n",
        "  else:\n",
        "    operation2\n",
        "elif condition3:\n",
        "  operation3\n",
        "  if condition3:\n",
        "    operation4\n",
        "  elif condition4:\n",
        "    operation5\n",
        "  else:\n",
        "    operation6\n",
        "operation7"
      ],
      "metadata": {
        "id": "yFpH_hRN8zu6"
      },
      "execution_count": null,
      "outputs": []
    },
    {
      "cell_type": "code",
      "source": [
        "if condition1:\n",
        "  if condition2:\n",
        "    operation1\n",
        "  elif condition3:\n",
        "    operation2\n",
        "  else:\n",
        "    operation3\n",
        "  operation4\n",
        "else:\n",
        "  operation5\n",
        "  if condition4:\n",
        "    operation6\n",
        "    operation7\n",
        "  else:\n",
        "    operation8\n",
        "operation9\n",
        ""
      ],
      "metadata": {
        "id": "C2c5Haei9ZvG"
      },
      "execution_count": null,
      "outputs": []
    },
    {
      "cell_type": "code",
      "source": [
        "if condition1:\n",
        "  if condition2:\n",
        "    operation1\n",
        "    operation2\n",
        "  operation3\n",
        "  operation4\n",
        "elif condition3:\n",
        "  operation5\n",
        "elif condition4:\n",
        "  operation6\n",
        "else:\n",
        "  operation7\n",
        "  operation8\n",
        "\n",
        "# ด้านบนทำผิด นี่เป็นข้อแรกเลยที่ทำแล้วรู้สึกติดจริง ๆ (ข้อ 15)\n",
        "\n",
        "if condition1:\n",
        "  if condition2:\n",
        "      operation1\n",
        "      operation2\n",
        "  operation3\n",
        "  operation4\n",
        "else:\n",
        "  if condtition3:\n",
        "      operation5\n",
        "  elif condition4:\n",
        "      operation6\n",
        "  else:\n",
        "    operation7\n",
        "    operation8\n",
        "  operation9\n",
        "operation10"
      ],
      "metadata": {
        "id": "AYSCS2TM96ks"
      },
      "execution_count": null,
      "outputs": []
    },
    {
      "cell_type": "code",
      "source": [
        "if condition1:\n",
        "  if condtition2:\n",
        "    operation1\n",
        "  elif condition3:\n",
        "    operation2\n",
        "else:\n",
        "  if condition4:\n",
        "    operation3\n",
        "  elif condition5:\n",
        "    operation4\n",
        "  operation5\n",
        "operation6"
      ],
      "metadata": {
        "id": "_8rjolwA_W7-"
      },
      "execution_count": null,
      "outputs": []
    },
    {
      "cell_type": "code",
      "source": [
        "if condition1:\n",
        "  operation1\n",
        "  if condition2:\n",
        "    operation2\n",
        "  else:\n",
        "    operation3\n",
        "  operation4\n",
        "operation5\n",
        "operation6"
      ],
      "metadata": {
        "id": "0PY48892_xdw"
      },
      "execution_count": null,
      "outputs": []
    },
    {
      "cell_type": "code",
      "source": [
        "if condition1:\n",
        "  operation1\n",
        "  operation2\n",
        "  if condition2:\n",
        "    operation3\n",
        "  elif condition2:\n",
        "    operation4\n",
        "  else:\n",
        "    operation5\n",
        "  operation6\n",
        "  operartion7\n",
        "operation8"
      ],
      "metadata": {
        "id": "ZLxgBUUc_8BD"
      },
      "execution_count": null,
      "outputs": []
    },
    {
      "cell_type": "code",
      "source": [
        "if condition1:\n",
        "  if condition1:\n",
        "    operation1\n",
        "  else:\n",
        "    operation2\n",
        "else:\n",
        "  if condition3:\n",
        "    if condition4:\n",
        "      operation3\n",
        "    else:\n",
        "      operation4\n",
        "      operation5\n",
        "    operation6\n",
        "  else:\n",
        "    operaton7\n",
        "    if condition5:\n",
        "      operation8\n",
        "    operation9\n",
        "operation10"
      ],
      "metadata": {
        "id": "QPf2Cc4KAXvd"
      },
      "execution_count": null,
      "outputs": []
    },
    {
      "cell_type": "code",
      "source": [
        "# กระโดดมาข้อ 22 ที่ดูยาก\n",
        "if condition1:\n",
        "  if condition2:\n",
        "    operation1\n",
        "  elif condition3:\n",
        "    operation2\n",
        "  else:\n",
        "    operation3\n",
        "elif condition4:\n",
        "  if condition5:\n",
        "    operation4\n",
        "    operaton5\n",
        "  else:\n",
        "    if condition6:\n",
        "      operation6\n",
        "    else:\n",
        "      opeperation7\n",
        "  operation8\n",
        "  operation9\n",
        "else:\n",
        "  operation10\n",
        "  if condition7:\n",
        "    operation11\n",
        "  else:\n",
        "    operation12\n",
        "    operation13\n",
        "  operation14\n",
        "operation15"
      ],
      "metadata": {
        "id": "D0K0NZSRBDt8"
      },
      "execution_count": null,
      "outputs": []
    },
    {
      "cell_type": "code",
      "source": [
        "# กระโดดมาข้อ 29 ที่ดูยาก\n",
        "if condition1:\n",
        "  if condition2:\n",
        "    operation1\n",
        "    operartion2\n",
        "    if condition3:\n",
        "      operation3\n",
        "  else:\n",
        "    operation4\n",
        "    if condition4:\n",
        "      operation5\n",
        "  operation6\n",
        "else:\n",
        "  operation7\n",
        "  operation8\n",
        "  if condition5:\n",
        "    if condition6:\n",
        "      operation9\n",
        "    else:\n",
        "      operation10\n",
        "    operation11\n",
        "  else:\n",
        "    operation12\n",
        "    if condition7:\n",
        "      operation13\n",
        "operation14"
      ],
      "metadata": {
        "id": "wsHr6aaSBP8X"
      },
      "execution_count": null,
      "outputs": []
    }
  ]
}